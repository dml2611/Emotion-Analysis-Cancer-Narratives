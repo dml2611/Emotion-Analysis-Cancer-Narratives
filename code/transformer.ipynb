{
  "cells": [
    {
      "cell_type": "markdown",
      "source": [
        "---\n",
        "# **Transformer**\n",
        "---\n",
        "Link: [DistilBERT base uncased finetuned SST-2](https://huggingface.co/blog/sentiment-analysis-python)\n",
        "\n",
        "Sentiment Categories:\n",
        "positive 😊\n",
        "negative 🙁\n",
        "neutral 😐"
      ],
      "metadata": {
        "id": "wqmZxlrpoTlN"
      }
    },
    {
      "cell_type": "code",
      "execution_count": 1,
      "metadata": {
        "id": "3eHmguPr1McB"
      },
      "outputs": [],
      "source": [
        "!pip install -q transformers"
      ]
    },
    {
      "cell_type": "code",
      "execution_count": 2,
      "metadata": {
        "colab": {
          "base_uri": "https://localhost:8080/"
        },
        "id": "EpJv5RlEEVET",
        "outputId": "cc6b4925-1a41-4a99-f67b-8efcea48bd42"
      },
      "outputs": [
        {
          "output_type": "stream",
          "name": "stdout",
          "text": [
            "Collecting clean-text\n",
            "  Downloading clean_text-0.6.0-py3-none-any.whl.metadata (6.6 kB)\n",
            "Collecting emoji<2.0.0,>=1.0.0 (from clean-text)\n",
            "  Downloading emoji-1.7.0.tar.gz (175 kB)\n",
            "\u001b[2K     \u001b[90m━━━━━━━━━━━━━━━━━━━━━━━━━━━━━━━━━━━━━━━\u001b[0m \u001b[32m175.4/175.4 kB\u001b[0m \u001b[31m4.4 MB/s\u001b[0m eta \u001b[36m0:00:00\u001b[0m\n",
            "\u001b[?25h  Preparing metadata (setup.py) ... \u001b[?25l\u001b[?25hdone\n",
            "Collecting ftfy<7.0,>=6.0 (from clean-text)\n",
            "  Downloading ftfy-6.3.1-py3-none-any.whl.metadata (7.3 kB)\n",
            "Requirement already satisfied: wcwidth in /usr/local/lib/python3.11/dist-packages (from ftfy<7.0,>=6.0->clean-text) (0.2.13)\n",
            "Downloading clean_text-0.6.0-py3-none-any.whl (11 kB)\n",
            "Downloading ftfy-6.3.1-py3-none-any.whl (44 kB)\n",
            "\u001b[2K   \u001b[90m━━━━━━━━━━━━━━━━━━━━━━━━━━━━━━━━━━━━━━━━\u001b[0m \u001b[32m44.8/44.8 kB\u001b[0m \u001b[31m2.9 MB/s\u001b[0m eta \u001b[36m0:00:00\u001b[0m\n",
            "\u001b[?25hBuilding wheels for collected packages: emoji\n",
            "  Building wheel for emoji (setup.py) ... \u001b[?25l\u001b[?25hdone\n",
            "  Created wheel for emoji: filename=emoji-1.7.0-py3-none-any.whl size=171031 sha256=e9d9e7bf9f2c2ed1578c6b417e3ef81eba8c9fb4d05d12184040c9b42e033f1c\n",
            "  Stored in directory: /root/.cache/pip/wheels/bd/22/e5/b69726d5e1a19795ecd3b3e7464b16c0f1d019aa94ff1c8578\n",
            "Successfully built emoji\n",
            "Installing collected packages: emoji, ftfy, clean-text\n",
            "Successfully installed clean-text-0.6.0 emoji-1.7.0 ftfy-6.3.1\n"
          ]
        }
      ],
      "source": [
        "!pip install clean-text"
      ]
    },
    {
      "cell_type": "code",
      "source": [
        "!pip install demoji"
      ],
      "metadata": {
        "colab": {
          "base_uri": "https://localhost:8080/"
        },
        "id": "9wKesyDks2j3",
        "outputId": "dee73997-cbe6-4e5b-ebc7-cede7022f1ca"
      },
      "execution_count": 16,
      "outputs": [
        {
          "output_type": "stream",
          "name": "stdout",
          "text": [
            "Collecting demoji\n",
            "  Downloading demoji-1.1.0-py3-none-any.whl.metadata (9.2 kB)\n",
            "Downloading demoji-1.1.0-py3-none-any.whl (42 kB)\n",
            "\u001b[?25l   \u001b[90m━━━━━━━━━━━━━━━━━━━━━━━━━━━━━━━━━━━━━━━━\u001b[0m \u001b[32m0.0/42.9 kB\u001b[0m \u001b[31m?\u001b[0m eta \u001b[36m-:--:--\u001b[0m\r\u001b[2K   \u001b[90m━━━━━━━━━━━━━━━━━━━━━━━━━━━━━━━━━━━━━━━━\u001b[0m \u001b[32m42.9/42.9 kB\u001b[0m \u001b[31m2.6 MB/s\u001b[0m eta \u001b[36m0:00:00\u001b[0m\n",
            "\u001b[?25hInstalling collected packages: demoji\n",
            "Successfully installed demoji-1.1.0\n"
          ]
        }
      ]
    },
    {
      "cell_type": "code",
      "source": [
        "!pip install emoji"
      ],
      "metadata": {
        "colab": {
          "base_uri": "https://localhost:8080/"
        },
        "id": "v9KhUmaAs3is",
        "outputId": "a8a987a3-31fa-4c03-f6b0-a8f331c18e29"
      },
      "execution_count": 17,
      "outputs": [
        {
          "output_type": "stream",
          "name": "stdout",
          "text": [
            "Requirement already satisfied: emoji in /usr/local/lib/python3.11/dist-packages (1.7.0)\n"
          ]
        }
      ]
    },
    {
      "cell_type": "code",
      "execution_count": 18,
      "metadata": {
        "colab": {
          "base_uri": "https://localhost:8080/"
        },
        "id": "z2nTh3tX3h6q",
        "outputId": "a1b10dc2-6395-441e-f51e-da825183946a"
      },
      "outputs": [
        {
          "output_type": "stream",
          "name": "stderr",
          "text": [
            "[nltk_data] Downloading package stopwords to /root/nltk_data...\n",
            "[nltk_data]   Package stopwords is already up-to-date!\n",
            "[nltk_data] Downloading package punkt_tab to /root/nltk_data...\n",
            "[nltk_data]   Package punkt_tab is already up-to-date!\n"
          ]
        }
      ],
      "source": [
        "import nltk\n",
        "nltk.download('stopwords')\n",
        "nltk.download('punkt_tab')\n",
        "from nltk.tokenize import sent_tokenize\n",
        "import pandas as pd\n",
        "import re\n",
        "import emoji\n",
        "import demoji"
      ]
    },
    {
      "cell_type": "code",
      "source": [
        "def emoji_free_text(text):\n",
        "    allchars = [str for str in text.decode('utf-8')]\n",
        "    emoji_list = [c for c in allchars if c in emoji.UNICODE_EMOJI]\n",
        "    clean_text = ' '.join([str for str in text.decode('utf-8').split() if not any(i in str for i in emoji_list)])\n",
        "    return clean_text\n",
        "\n",
        "def deEmojify(text):\n",
        "    regrex_pattern = re.compile(pattern = \"[\"\n",
        "        u\"\\U0001F600-\\U0001F64F\"  # emoticons\n",
        "        u\"\\U0001F300-\\U0001F5FF\"  # symbols & pictographs\n",
        "        u\"\\U0001F680-\\U0001F6FF\"  # transport & map symbols\n",
        "        u\"\\U0001F1E0-\\U0001F1FF\"  # flags (iOS)\n",
        "                           \"]+\", flags = re.UNICODE)\n",
        "    return regrex_pattern.sub(r'',text)"
      ],
      "metadata": {
        "id": "TBefMM-YsyMM"
      },
      "execution_count": 19,
      "outputs": []
    },
    {
      "cell_type": "code",
      "source": [
        "def filter(post):\n",
        "  try:\n",
        "    post = re.sub(r\"^https://ibb.co/[a-zA-Z0-9]*\\s\", \" \", post)\n",
        "    post = re.sub(r\"\\s+https://ibb.co/[a-zA-Z0-9]*\\s\", \" \", post)\n",
        "    post = re.sub(r\"(https://ibb.co/[a-zA-Z0-9]*)\", \" \", post)\n",
        "    post = re.sub(r\"(https://www.reddit.com/r/[a-zA-Z0-9]*)\", \" \", post)\n",
        "    post = re.sub(r\"(https://[a-zA-Z0-9//._@-]*)\", \" \", post)\n",
        "    post = re.sub(r\"\\s+https://ibb.co/[a-zA-Z0-9]*$\", \" \", post)\n",
        "    post = re.sub(r\"\\s+https://ibb.co/[a-zA-Z0-9]*$\", \" \", post)\n",
        "    post = re.sub(r\"(https://cbcn.bandcamp.com/[a-zA-Z0-9//]*)\", \" \", post)\n",
        "    post = re.sub(\"@[A-Za-z0-9_]+\",\"\", post)\n",
        "    post = re.sub(\"#[A-Za-z0-9_]+\",\"\", post)\n",
        "    post = re.sub(r'//www.reddit.com/r/[a-zA-Z0-9]*\\s', ' ', post)\n",
        "    # post = clean(post.encode('utf8'), no_emoji=True)\n",
        "    # post = emoji.replace_emoji(post, replace=\"\")\n",
        "    post = re.sub(r\"that's\",\"that is\", post)\n",
        "    post = re.sub(r\"there's\",\"there is\", post)\n",
        "    post = re.sub(r\"what's\",\"what is\", post)\n",
        "    post = re.sub(r\"where's\",\"where is\", post)\n",
        "    post = re.sub(r\"it's\",\"it is\", post)\n",
        "    post = re.sub(r\"It's\",\"it is\", post)\n",
        "    post = re.sub(r\"I'm\",\"I am\", post)\n",
        "    post = re.sub(r\"who's\",\"who is\", post)\n",
        "    post = re.sub(r\"i'm\",\"i am\", post)\n",
        "    post = re.sub(r\"she's\",\"she is\", post)\n",
        "    post = re.sub(r\"he's\",\"he is\", post)\n",
        "    post = re.sub(r\"you're\",\"you are\", post)\n",
        "    post = re.sub(r\"they're\",\"they are\", post)\n",
        "    post = re.sub(r\"who're\",\"who are\", post)\n",
        "    post = re.sub(r\"ain't\",\"am not\", post)\n",
        "    post = re.sub(r\"wouldn't\",\"would not\", post)\n",
        "    post = re.sub(r\"shouldn't\",\"should not\", post)\n",
        "    post = re.sub(r\"can't\",\"can not\", post)\n",
        "    post = re.sub(r\"couldn't\",\"could not\", post)\n",
        "    post = re.sub(r\"won't\",\"will not\", post)\n",
        "    post = re.sub(r\"don't\",\"do not\", post)\n",
        "    post = re.sub(r\"\\s+[s]\\s+\",\" \", post)\n",
        "    post = re.sub(r\"\\s*[\\[\\]\\(\\)\\*#<>\\'\\\":]\\s*\",\" \", post)\n",
        "    post = re.sub(r\"\\s+\",\" \", post)\n",
        "    post = deEmojify(post)\n",
        "    post = demoji.replace(post)\n",
        "  except TypeError:\n",
        "      pass\n",
        "  return post"
      ],
      "metadata": {
        "id": "twiqog3Uskhg"
      },
      "execution_count": 20,
      "outputs": []
    },
    {
      "cell_type": "code",
      "execution_count": 21,
      "metadata": {
        "id": "R3jpeZ65-HNg"
      },
      "outputs": [],
      "source": [
        "text = \"\"\"i’m a 15 year old boy who was diagnosed with lung cancer 2 weeks ago and almost immediately started chemotherapy. when i got diagnosed i explained to my parents, 44 year old mom and 48 year old dad that i’m aware that i might fall back into depression because of the circumstances but i don’t want them to do anything like shaving their hair as i know at least that my dad’s hair isn’t gonna grow bag and i can’t even imagine that i caused my dad’s chance of regrowing hair to deplete completely( it sounds silly but i love his tiny head of hair lol) i’m scared they’ll try something like that… how can i convince them not to do that? please, i don’t need sympathy, i accepted that cancer sucks lol<3.\n",
        "\n",
        "edit: thanks for all the replies, i left out a bit of information, first, my lung cancer is stage 1, i have no idea how i just felt something was wrong that i went to the doctor where they diagnosed me, also this isn’t the first time i’ve been diagnosed with cancer, i was diagnosed with stage 1 melanoma in 2020 at 12 years old s but luckily they cut it out immediately and i just needed to go for checkups for like 2 years but they couldn’t find my lung cancer.\n",
        "\n",
        "also i went for my chemo today and the cancer has reduced in size by 20% which is amazing, my doctor have never seen lung cancer reducing so fast in someone my age lol, so road to recovery is going great. i started losing my eyebrows today but with the rate of chemo working, i’ll hopefully be cancer free with a half head of hair lol\"\"\""
      ]
    },
    {
      "cell_type": "code",
      "execution_count": 22,
      "metadata": {
        "colab": {
          "base_uri": "https://localhost:8080/"
        },
        "id": "gSXz76Dt1O6P",
        "outputId": "44f0df7a-c931-481e-d3bd-9de5438a2399"
      },
      "outputs": [
        {
          "output_type": "stream",
          "name": "stderr",
          "text": [
            "No model was supplied, defaulted to distilbert/distilbert-base-uncased-finetuned-sst-2-english and revision 714eb0f (https://huggingface.co/distilbert/distilbert-base-uncased-finetuned-sst-2-english).\n",
            "Using a pipeline without specifying a model name and revision in production is not recommended.\n",
            "Device set to use cpu\n"
          ]
        }
      ],
      "source": [
        "from transformers import pipeline\n",
        "sentiment_pipeline = pipeline(\"sentiment-analysis\")"
      ]
    },
    {
      "cell_type": "code",
      "execution_count": 24,
      "metadata": {
        "id": "hYxAO_jt3SgH"
      },
      "outputs": [],
      "source": [
        "posts_emotions = pd.DataFrame(columns = ['Post Text', 'Emotion Tag'])"
      ]
    },
    {
      "cell_type": "code",
      "execution_count": 27,
      "metadata": {
        "id": "t_UgA9bg1jkg"
      },
      "outputs": [],
      "source": [
        "sent_emo = {}\n",
        "sentences = nltk.sent_tokenize(text)\n",
        "for sent in sentences:\n",
        "    if(sent):\n",
        "      sent = filter(sent)\n",
        "      if(sentiment_pipeline(sent)):\n",
        "        sent_emo[sent] = sentiment_pipeline(sent)"
      ]
    },
    {
      "cell_type": "code",
      "source": [
        "sent_emo"
      ],
      "metadata": {
        "colab": {
          "base_uri": "https://localhost:8080/"
        },
        "id": "jfFzVnWrtLiB",
        "outputId": "0e68bb85-0b36-469b-d73d-0f91c6346a89"
      },
      "execution_count": 28,
      "outputs": [
        {
          "output_type": "execute_result",
          "data": {
            "text/plain": [
              "{'i’m a 15 year old boy who was diagnosed with lung cancer 2 weeks ago and almost immediately started chemotherapy.': [{'label': 'NEGATIVE',\n",
              "   'score': 0.9930949211120605}],\n",
              " 'when i got diagnosed i explained to my parents, 44 year old mom and 48 year old dad that i’m aware that i might fall back into depression because of the circumstances but i don’t want them to do anything like shaving their hair as i know at least that my dad’s hair isn’t gonna grow bag and i can’t even imagine that i caused my dad’s chance of regrowing hair to deplete completely it sounds silly but i love his tiny head of hair lol i’m scared they’ll try something like that… how can i convince them not to do that?': [{'label': 'NEGATIVE',\n",
              "   'score': 0.9806382656097412}],\n",
              " 'please, i don’t need sympathy, i accepted that cancer sucks lol 3.': [{'label': 'NEGATIVE',\n",
              "   'score': 0.9958992600440979}],\n",
              " 'edit thanks for all the replies, i left out a bit of information, first, my lung cancer is stage 1, i have no idea how i just felt something was wrong that i went to the doctor where they diagnosed me, also this isn’t the first time i’ve been diagnosed with cancer, i was diagnosed with stage 1 melanoma in 2020 at 12 years old but luckily they cut it out immediately and i just needed to go for checkups for like 2 years but they couldn’t find my lung cancer.': [{'label': 'NEGATIVE',\n",
              "   'score': 0.9982056617736816}],\n",
              " 'also i went for my chemo today and the cancer has reduced in size by 20% which is amazing, my doctor have never seen lung cancer reducing so fast in someone my age lol, so road to recovery is going great.': [{'label': 'POSITIVE',\n",
              "   'score': 0.9990986585617065}],\n",
              " 'i started losing my eyebrows today but with the rate of chemo working, i’ll hopefully be cancer free with a half head of hair lol': [{'label': 'NEGATIVE',\n",
              "   'score': 0.997287392616272}]}"
            ]
          },
          "metadata": {},
          "execution_count": 28
        }
      ]
    },
    {
      "cell_type": "code",
      "execution_count": 29,
      "metadata": {
        "id": "TCIcR8xQ7Wkz"
      },
      "outputs": [],
      "source": [
        "posts_emotions['Post Text'] = sent_emo.keys()\n",
        "posts_emotions['Emotion Tag'] = sent_emo.values()"
      ]
    },
    {
      "cell_type": "code",
      "source": [
        "posts_emotions"
      ],
      "metadata": {
        "id": "NITvLPGubNAz",
        "colab": {
          "base_uri": "https://localhost:8080/",
          "height": 237
        },
        "outputId": "8ef1696f-b858-41b2-9c0e-0fdeafafa2d0"
      },
      "execution_count": 30,
      "outputs": [
        {
          "output_type": "execute_result",
          "data": {
            "text/plain": [
              "                                           Post Text  \\\n",
              "0  i’m a 15 year old boy who was diagnosed with l...   \n",
              "1  when i got diagnosed i explained to my parents...   \n",
              "2  please, i don’t need sympathy, i accepted that...   \n",
              "3  edit thanks for all the replies, i left out a ...   \n",
              "4  also i went for my chemo today and the cancer ...   \n",
              "5  i started losing my eyebrows today but with th...   \n",
              "\n",
              "                                         Emotion Tag  \n",
              "0  [{'label': 'NEGATIVE', 'score': 0.993094921112...  \n",
              "1  [{'label': 'NEGATIVE', 'score': 0.980638265609...  \n",
              "2  [{'label': 'NEGATIVE', 'score': 0.995899260044...  \n",
              "3  [{'label': 'NEGATIVE', 'score': 0.998205661773...  \n",
              "4  [{'label': 'POSITIVE', 'score': 0.999098658561...  \n",
              "5  [{'label': 'NEGATIVE', 'score': 0.997287392616...  "
            ],
            "text/html": [
              "\n",
              "  <div id=\"df-0ae71be0-da97-403a-b081-38e6b77143d6\" class=\"colab-df-container\">\n",
              "    <div>\n",
              "<style scoped>\n",
              "    .dataframe tbody tr th:only-of-type {\n",
              "        vertical-align: middle;\n",
              "    }\n",
              "\n",
              "    .dataframe tbody tr th {\n",
              "        vertical-align: top;\n",
              "    }\n",
              "\n",
              "    .dataframe thead th {\n",
              "        text-align: right;\n",
              "    }\n",
              "</style>\n",
              "<table border=\"1\" class=\"dataframe\">\n",
              "  <thead>\n",
              "    <tr style=\"text-align: right;\">\n",
              "      <th></th>\n",
              "      <th>Post Text</th>\n",
              "      <th>Emotion Tag</th>\n",
              "    </tr>\n",
              "  </thead>\n",
              "  <tbody>\n",
              "    <tr>\n",
              "      <th>0</th>\n",
              "      <td>i’m a 15 year old boy who was diagnosed with l...</td>\n",
              "      <td>[{'label': 'NEGATIVE', 'score': 0.993094921112...</td>\n",
              "    </tr>\n",
              "    <tr>\n",
              "      <th>1</th>\n",
              "      <td>when i got diagnosed i explained to my parents...</td>\n",
              "      <td>[{'label': 'NEGATIVE', 'score': 0.980638265609...</td>\n",
              "    </tr>\n",
              "    <tr>\n",
              "      <th>2</th>\n",
              "      <td>please, i don’t need sympathy, i accepted that...</td>\n",
              "      <td>[{'label': 'NEGATIVE', 'score': 0.995899260044...</td>\n",
              "    </tr>\n",
              "    <tr>\n",
              "      <th>3</th>\n",
              "      <td>edit thanks for all the replies, i left out a ...</td>\n",
              "      <td>[{'label': 'NEGATIVE', 'score': 0.998205661773...</td>\n",
              "    </tr>\n",
              "    <tr>\n",
              "      <th>4</th>\n",
              "      <td>also i went for my chemo today and the cancer ...</td>\n",
              "      <td>[{'label': 'POSITIVE', 'score': 0.999098658561...</td>\n",
              "    </tr>\n",
              "    <tr>\n",
              "      <th>5</th>\n",
              "      <td>i started losing my eyebrows today but with th...</td>\n",
              "      <td>[{'label': 'NEGATIVE', 'score': 0.997287392616...</td>\n",
              "    </tr>\n",
              "  </tbody>\n",
              "</table>\n",
              "</div>\n",
              "    <div class=\"colab-df-buttons\">\n",
              "\n",
              "  <div class=\"colab-df-container\">\n",
              "    <button class=\"colab-df-convert\" onclick=\"convertToInteractive('df-0ae71be0-da97-403a-b081-38e6b77143d6')\"\n",
              "            title=\"Convert this dataframe to an interactive table.\"\n",
              "            style=\"display:none;\">\n",
              "\n",
              "  <svg xmlns=\"http://www.w3.org/2000/svg\" height=\"24px\" viewBox=\"0 -960 960 960\">\n",
              "    <path d=\"M120-120v-720h720v720H120Zm60-500h600v-160H180v160Zm220 220h160v-160H400v160Zm0 220h160v-160H400v160ZM180-400h160v-160H180v160Zm440 0h160v-160H620v160ZM180-180h160v-160H180v160Zm440 0h160v-160H620v160Z\"/>\n",
              "  </svg>\n",
              "    </button>\n",
              "\n",
              "  <style>\n",
              "    .colab-df-container {\n",
              "      display:flex;\n",
              "      gap: 12px;\n",
              "    }\n",
              "\n",
              "    .colab-df-convert {\n",
              "      background-color: #E8F0FE;\n",
              "      border: none;\n",
              "      border-radius: 50%;\n",
              "      cursor: pointer;\n",
              "      display: none;\n",
              "      fill: #1967D2;\n",
              "      height: 32px;\n",
              "      padding: 0 0 0 0;\n",
              "      width: 32px;\n",
              "    }\n",
              "\n",
              "    .colab-df-convert:hover {\n",
              "      background-color: #E2EBFA;\n",
              "      box-shadow: 0px 1px 2px rgba(60, 64, 67, 0.3), 0px 1px 3px 1px rgba(60, 64, 67, 0.15);\n",
              "      fill: #174EA6;\n",
              "    }\n",
              "\n",
              "    .colab-df-buttons div {\n",
              "      margin-bottom: 4px;\n",
              "    }\n",
              "\n",
              "    [theme=dark] .colab-df-convert {\n",
              "      background-color: #3B4455;\n",
              "      fill: #D2E3FC;\n",
              "    }\n",
              "\n",
              "    [theme=dark] .colab-df-convert:hover {\n",
              "      background-color: #434B5C;\n",
              "      box-shadow: 0px 1px 3px 1px rgba(0, 0, 0, 0.15);\n",
              "      filter: drop-shadow(0px 1px 2px rgba(0, 0, 0, 0.3));\n",
              "      fill: #FFFFFF;\n",
              "    }\n",
              "  </style>\n",
              "\n",
              "    <script>\n",
              "      const buttonEl =\n",
              "        document.querySelector('#df-0ae71be0-da97-403a-b081-38e6b77143d6 button.colab-df-convert');\n",
              "      buttonEl.style.display =\n",
              "        google.colab.kernel.accessAllowed ? 'block' : 'none';\n",
              "\n",
              "      async function convertToInteractive(key) {\n",
              "        const element = document.querySelector('#df-0ae71be0-da97-403a-b081-38e6b77143d6');\n",
              "        const dataTable =\n",
              "          await google.colab.kernel.invokeFunction('convertToInteractive',\n",
              "                                                    [key], {});\n",
              "        if (!dataTable) return;\n",
              "\n",
              "        const docLinkHtml = 'Like what you see? Visit the ' +\n",
              "          '<a target=\"_blank\" href=https://colab.research.google.com/notebooks/data_table.ipynb>data table notebook</a>'\n",
              "          + ' to learn more about interactive tables.';\n",
              "        element.innerHTML = '';\n",
              "        dataTable['output_type'] = 'display_data';\n",
              "        await google.colab.output.renderOutput(dataTable, element);\n",
              "        const docLink = document.createElement('div');\n",
              "        docLink.innerHTML = docLinkHtml;\n",
              "        element.appendChild(docLink);\n",
              "      }\n",
              "    </script>\n",
              "  </div>\n",
              "\n",
              "\n",
              "    <div id=\"df-7cb22e73-b654-4952-b984-3bef8dda64be\">\n",
              "      <button class=\"colab-df-quickchart\" onclick=\"quickchart('df-7cb22e73-b654-4952-b984-3bef8dda64be')\"\n",
              "                title=\"Suggest charts\"\n",
              "                style=\"display:none;\">\n",
              "\n",
              "<svg xmlns=\"http://www.w3.org/2000/svg\" height=\"24px\"viewBox=\"0 0 24 24\"\n",
              "     width=\"24px\">\n",
              "    <g>\n",
              "        <path d=\"M19 3H5c-1.1 0-2 .9-2 2v14c0 1.1.9 2 2 2h14c1.1 0 2-.9 2-2V5c0-1.1-.9-2-2-2zM9 17H7v-7h2v7zm4 0h-2V7h2v10zm4 0h-2v-4h2v4z\"/>\n",
              "    </g>\n",
              "</svg>\n",
              "      </button>\n",
              "\n",
              "<style>\n",
              "  .colab-df-quickchart {\n",
              "      --bg-color: #E8F0FE;\n",
              "      --fill-color: #1967D2;\n",
              "      --hover-bg-color: #E2EBFA;\n",
              "      --hover-fill-color: #174EA6;\n",
              "      --disabled-fill-color: #AAA;\n",
              "      --disabled-bg-color: #DDD;\n",
              "  }\n",
              "\n",
              "  [theme=dark] .colab-df-quickchart {\n",
              "      --bg-color: #3B4455;\n",
              "      --fill-color: #D2E3FC;\n",
              "      --hover-bg-color: #434B5C;\n",
              "      --hover-fill-color: #FFFFFF;\n",
              "      --disabled-bg-color: #3B4455;\n",
              "      --disabled-fill-color: #666;\n",
              "  }\n",
              "\n",
              "  .colab-df-quickchart {\n",
              "    background-color: var(--bg-color);\n",
              "    border: none;\n",
              "    border-radius: 50%;\n",
              "    cursor: pointer;\n",
              "    display: none;\n",
              "    fill: var(--fill-color);\n",
              "    height: 32px;\n",
              "    padding: 0;\n",
              "    width: 32px;\n",
              "  }\n",
              "\n",
              "  .colab-df-quickchart:hover {\n",
              "    background-color: var(--hover-bg-color);\n",
              "    box-shadow: 0 1px 2px rgba(60, 64, 67, 0.3), 0 1px 3px 1px rgba(60, 64, 67, 0.15);\n",
              "    fill: var(--button-hover-fill-color);\n",
              "  }\n",
              "\n",
              "  .colab-df-quickchart-complete:disabled,\n",
              "  .colab-df-quickchart-complete:disabled:hover {\n",
              "    background-color: var(--disabled-bg-color);\n",
              "    fill: var(--disabled-fill-color);\n",
              "    box-shadow: none;\n",
              "  }\n",
              "\n",
              "  .colab-df-spinner {\n",
              "    border: 2px solid var(--fill-color);\n",
              "    border-color: transparent;\n",
              "    border-bottom-color: var(--fill-color);\n",
              "    animation:\n",
              "      spin 1s steps(1) infinite;\n",
              "  }\n",
              "\n",
              "  @keyframes spin {\n",
              "    0% {\n",
              "      border-color: transparent;\n",
              "      border-bottom-color: var(--fill-color);\n",
              "      border-left-color: var(--fill-color);\n",
              "    }\n",
              "    20% {\n",
              "      border-color: transparent;\n",
              "      border-left-color: var(--fill-color);\n",
              "      border-top-color: var(--fill-color);\n",
              "    }\n",
              "    30% {\n",
              "      border-color: transparent;\n",
              "      border-left-color: var(--fill-color);\n",
              "      border-top-color: var(--fill-color);\n",
              "      border-right-color: var(--fill-color);\n",
              "    }\n",
              "    40% {\n",
              "      border-color: transparent;\n",
              "      border-right-color: var(--fill-color);\n",
              "      border-top-color: var(--fill-color);\n",
              "    }\n",
              "    60% {\n",
              "      border-color: transparent;\n",
              "      border-right-color: var(--fill-color);\n",
              "    }\n",
              "    80% {\n",
              "      border-color: transparent;\n",
              "      border-right-color: var(--fill-color);\n",
              "      border-bottom-color: var(--fill-color);\n",
              "    }\n",
              "    90% {\n",
              "      border-color: transparent;\n",
              "      border-bottom-color: var(--fill-color);\n",
              "    }\n",
              "  }\n",
              "</style>\n",
              "\n",
              "      <script>\n",
              "        async function quickchart(key) {\n",
              "          const quickchartButtonEl =\n",
              "            document.querySelector('#' + key + ' button');\n",
              "          quickchartButtonEl.disabled = true;  // To prevent multiple clicks.\n",
              "          quickchartButtonEl.classList.add('colab-df-spinner');\n",
              "          try {\n",
              "            const charts = await google.colab.kernel.invokeFunction(\n",
              "                'suggestCharts', [key], {});\n",
              "          } catch (error) {\n",
              "            console.error('Error during call to suggestCharts:', error);\n",
              "          }\n",
              "          quickchartButtonEl.classList.remove('colab-df-spinner');\n",
              "          quickchartButtonEl.classList.add('colab-df-quickchart-complete');\n",
              "        }\n",
              "        (() => {\n",
              "          let quickchartButtonEl =\n",
              "            document.querySelector('#df-7cb22e73-b654-4952-b984-3bef8dda64be button');\n",
              "          quickchartButtonEl.style.display =\n",
              "            google.colab.kernel.accessAllowed ? 'block' : 'none';\n",
              "        })();\n",
              "      </script>\n",
              "    </div>\n",
              "\n",
              "  <div id=\"id_a6a7f361-e44e-45c7-96f5-03914edfb455\">\n",
              "    <style>\n",
              "      .colab-df-generate {\n",
              "        background-color: #E8F0FE;\n",
              "        border: none;\n",
              "        border-radius: 50%;\n",
              "        cursor: pointer;\n",
              "        display: none;\n",
              "        fill: #1967D2;\n",
              "        height: 32px;\n",
              "        padding: 0 0 0 0;\n",
              "        width: 32px;\n",
              "      }\n",
              "\n",
              "      .colab-df-generate:hover {\n",
              "        background-color: #E2EBFA;\n",
              "        box-shadow: 0px 1px 2px rgba(60, 64, 67, 0.3), 0px 1px 3px 1px rgba(60, 64, 67, 0.15);\n",
              "        fill: #174EA6;\n",
              "      }\n",
              "\n",
              "      [theme=dark] .colab-df-generate {\n",
              "        background-color: #3B4455;\n",
              "        fill: #D2E3FC;\n",
              "      }\n",
              "\n",
              "      [theme=dark] .colab-df-generate:hover {\n",
              "        background-color: #434B5C;\n",
              "        box-shadow: 0px 1px 3px 1px rgba(0, 0, 0, 0.15);\n",
              "        filter: drop-shadow(0px 1px 2px rgba(0, 0, 0, 0.3));\n",
              "        fill: #FFFFFF;\n",
              "      }\n",
              "    </style>\n",
              "    <button class=\"colab-df-generate\" onclick=\"generateWithVariable('posts_emotions')\"\n",
              "            title=\"Generate code using this dataframe.\"\n",
              "            style=\"display:none;\">\n",
              "\n",
              "  <svg xmlns=\"http://www.w3.org/2000/svg\" height=\"24px\"viewBox=\"0 0 24 24\"\n",
              "       width=\"24px\">\n",
              "    <path d=\"M7,19H8.4L18.45,9,17,7.55,7,17.6ZM5,21V16.75L18.45,3.32a2,2,0,0,1,2.83,0l1.4,1.43a1.91,1.91,0,0,1,.58,1.4,1.91,1.91,0,0,1-.58,1.4L9.25,21ZM18.45,9,17,7.55Zm-12,3A5.31,5.31,0,0,0,4.9,8.1,5.31,5.31,0,0,0,1,6.5,5.31,5.31,0,0,0,4.9,4.9,5.31,5.31,0,0,0,6.5,1,5.31,5.31,0,0,0,8.1,4.9,5.31,5.31,0,0,0,12,6.5,5.46,5.46,0,0,0,6.5,12Z\"/>\n",
              "  </svg>\n",
              "    </button>\n",
              "    <script>\n",
              "      (() => {\n",
              "      const buttonEl =\n",
              "        document.querySelector('#id_a6a7f361-e44e-45c7-96f5-03914edfb455 button.colab-df-generate');\n",
              "      buttonEl.style.display =\n",
              "        google.colab.kernel.accessAllowed ? 'block' : 'none';\n",
              "\n",
              "      buttonEl.onclick = () => {\n",
              "        google.colab.notebook.generateWithVariable('posts_emotions');\n",
              "      }\n",
              "      })();\n",
              "    </script>\n",
              "  </div>\n",
              "\n",
              "    </div>\n",
              "  </div>\n"
            ],
            "application/vnd.google.colaboratory.intrinsic+json": {
              "type": "dataframe",
              "variable_name": "posts_emotions",
              "summary": "{\n  \"name\": \"posts_emotions\",\n  \"rows\": 6,\n  \"fields\": [\n    {\n      \"column\": \"Post Text\",\n      \"properties\": {\n        \"dtype\": \"string\",\n        \"num_unique_values\": 6,\n        \"samples\": [\n          \"i\\u2019m a 15 year old boy who was diagnosed with lung cancer 2 weeks ago and almost immediately started chemotherapy.\",\n          \"when i got diagnosed i explained to my parents, 44 year old mom and 48 year old dad that i\\u2019m aware that i might fall back into depression because of the circumstances but i don\\u2019t want them to do anything like shaving their hair as i know at least that my dad\\u2019s hair isn\\u2019t gonna grow bag and i can\\u2019t even imagine that i caused my dad\\u2019s chance of regrowing hair to deplete completely it sounds silly but i love his tiny head of hair lol i\\u2019m scared they\\u2019ll try something like that\\u2026 how can i convince them not to do that?\",\n          \"i started losing my eyebrows today but with the rate of chemo working, i\\u2019ll hopefully be cancer free with a half head of hair lol\"\n        ],\n        \"semantic_type\": \"\",\n        \"description\": \"\"\n      }\n    },\n    {\n      \"column\": \"Emotion Tag\",\n      \"properties\": {\n        \"dtype\": \"object\",\n        \"semantic_type\": \"\",\n        \"description\": \"\"\n      }\n    }\n  ]\n}"
            }
          },
          "metadata": {},
          "execution_count": 30
        }
      ]
    },
    {
      "cell_type": "markdown",
      "source": [
        "End.\n",
        "\n",
        "---"
      ],
      "metadata": {
        "id": "zsOYevsIr5-X"
      }
    }
  ],
  "metadata": {
    "colab": {
      "provenance": []
    },
    "kernelspec": {
      "display_name": "Python 3",
      "name": "python3"
    },
    "language_info": {
      "name": "python"
    }
  },
  "nbformat": 4,
  "nbformat_minor": 0
}